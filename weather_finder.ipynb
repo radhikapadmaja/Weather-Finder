{
 "cells": [
  {
   "cell_type": "code",
   "execution_count": 1,
   "id": "cda307b6",
   "metadata": {},
   "outputs": [],
   "source": [
    "import pandas as pd"
   ]
  },
  {
   "cell_type": "code",
   "execution_count": 49,
   "id": "49ebcc4e",
   "metadata": {},
   "outputs": [
    {
     "name": "stdout",
     "output_type": "stream",
     "text": [
      "IL\n",
      "https://api.weather.gov/alerts/active?area=IL\n",
      "Current watches, warnings, and advisories for Illinois\n",
      "Monroe, IL; Jefferson, MO\n",
      "Madison, IL; St. Charles, MO\n",
      "Jackson, IL; Randolph, IL; Perry, MO; Ste. Genevieve, MO\n",
      "Cass, IL; Fulton, IL; Mason, IL\n",
      "Brown, IL; Cass, IL; Morgan, IL; Schuyler, IL\n",
      "Brown, IL\n",
      "Morgan, IL; Pike, IL\n",
      "Calhoun, IL; Greene, IL; Jersey, IL\n",
      "Pike, IL; Scott, IL\n",
      "Jackson, IL\n",
      "Pulaski, IL; Ballard, KY\n",
      "Alexander, IL; Pulaski, IL; Ballard, KY; Carlisle, KY; Fulton, KY; Hickman, KY; Mississippi, MO\n",
      "Alexander, IL; Scott, MO\n",
      "Alexander, IL; Jackson, IL; Union, IL; Cape Girardeau, MO; Perry, MO; Scott, MO\n",
      "\n",
      "\n",
      "CA\n",
      "https://api.weather.gov/alerts/active?area=CA\n",
      "Current watches, warnings, and advisories for California\n",
      "Coastal Del Norte; Northern Humboldt Coast\n",
      "\n",
      "\n",
      "MI\n",
      "https://api.weather.gov/alerts/active?area=MI\n",
      "Current watches, warnings, and advisories for Michigan\n",
      "Emmet; Cheboygan; Presque Isle; Antrim; Otsego; Montmorency; Alpena; Kalkaska; Crawford; Oscoda; Alcona; Wexford; Missaukee; Roscommon; Ogemaw\n",
      "\n",
      "\n"
     ]
    }
   ],
   "source": [
    "# weather url\n",
    "weather_url =  \"https://api.weather.gov/alerts/active?area=\"\n",
    "\n",
    "# Load the Excel file\n",
    "excel_file = \"weather_state.xlsx\"\n",
    "df = pd.read_excel(excel_file)\n",
    "\n",
    "\n",
    "# Iterate over each column in the DataFrame\n",
    "for column_name in df.columns:\n",
    "    # Access column values one at a time\n",
    "    column_values = df[column_name]\n",
    "    for state in column_values:\n",
    "        print(state)\n",
    "       \n",
    "        # Append the state to the end of the URL\n",
    "        state_weather_url = weather_url + state\n",
    "        print(state_weather_url)\n",
    "    \n",
    "        # Fetch JSON data from the URL\n",
    "        json_data = fetch_json_data(state_weather_url)\n",
    "\n",
    "        if json_data:            \n",
    "            title = json_data[\"title\"]\n",
    "            print(title)    \n",
    "            for feature in json_data[\"features\"]:\n",
    "                print(feature[\"properties\"][\"areaDesc\"])\n",
    "            print(\"\\n\")          \n",
    "        else:\n",
    "            print(\"\\n\")"
   ]
  },
  {
   "cell_type": "code",
   "execution_count": 8,
   "id": "d8903fcf",
   "metadata": {},
   "outputs": [],
   "source": [
    "import requests\n",
    "\n",
    "def fetch_json_data(url):\n",
    "    try:\n",
    "        response = requests.get(url)\n",
    "        # Check if the request was successful (status code 200)\n",
    "        if response.status_code == 200:\n",
    "            # Parse JSON data\n",
    "            json_data = response.json()\n",
    "            return json_data\n",
    "        else:\n",
    "            print(\"Failed to fetch data. Status code:\", response.status_code)\n",
    "            return None\n",
    "    except Exception as e:\n",
    "        print(\"An error occurred:\", e)\n",
    "        return None\n",
    "\n"
   ]
  },
  {
   "cell_type": "code",
   "execution_count": null,
   "id": "db6b6ad1",
   "metadata": {},
   "outputs": [],
   "source": []
  }
 ],
 "metadata": {
  "kernelspec": {
   "display_name": "Python 3 (ipykernel)",
   "language": "python",
   "name": "python3"
  },
  "language_info": {
   "codemirror_mode": {
    "name": "ipython",
    "version": 3
   },
   "file_extension": ".py",
   "mimetype": "text/x-python",
   "name": "python",
   "nbconvert_exporter": "python",
   "pygments_lexer": "ipython3",
   "version": "3.11.4"
  }
 },
 "nbformat": 4,
 "nbformat_minor": 5
}
